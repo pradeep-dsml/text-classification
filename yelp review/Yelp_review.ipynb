{
  "nbformat": 4,
  "nbformat_minor": 0,
  "metadata": {
    "kernelspec": {
      "display_name": "Python 2",
      "language": "python",
      "name": "python2"
    },
    "language_info": {
      "codemirror_mode": {
        "name": "ipython",
        "version": 2
      },
      "file_extension": ".py",
      "mimetype": "text/x-python",
      "name": "python",
      "nbconvert_exporter": "python",
      "pygments_lexer": "ipython2",
      "version": "2.7.11"
    },
    "colab": {
      "name": "Yelp review.ipynb",
      "provenance": []
    }
  },
  "cells": [
    {
      "cell_type": "markdown",
      "metadata": {
        "id": "TfUSjJtCSPD5"
      },
      "source": [
        "# Yelp reviews star prediction(text classification)"
      ]
    },
    {
      "cell_type": "markdown",
      "metadata": {
        "id": "_dYTxY5BSPEF"
      },
      "source": [
        "## Introduction\n",
        "\n",
        "This notebook uses a small subset of the data from Kaggle's [Yelp Business Rating Prediction](https://www.kaggle.com/c/yelp-recsys-2013) competition.\n",
        "\n",
        "**Description of the data:**\n",
        "\n",
        "- **`yelp.csv`** contains the dataset. It is stored in the repository (in the **`data`** directory), so there is no need to download anything from the Kaggle website.\n",
        "- Each observation (row) in this dataset is a review of a particular business by a particular user.\n",
        "- The **stars** column is the number of stars (1 through 5) assigned by the reviewer to the business. (Higher stars is better.) In other words, it is the rating of the business by the person who wrote the review.\n",
        "- The **text** column is the text of the review.\n",
        "\n",
        "**Goal:** Predict the star rating of a review using **only** the review text.\n"
      ]
    },
    {
      "cell_type": "markdown",
      "metadata": {
        "id": "mkZvqryYSPEI"
      },
      "source": [
        "## step 1\n",
        "\n",
        "Read **`yelp.csv`** into a pandas DataFrame and examine it."
      ]
    },
    {
      "cell_type": "code",
      "metadata": {
        "collapsed": true,
        "id": "15GTRWzVSPEI"
      },
      "source": [
        "# read yelp.csv using github's raw text url\n",
        "import pandas as pd\n",
        "url=\"https://raw.githubusercontent.com/pradeep-dsml/text-classification/main/yelp%20review/yelp.csv\"\n",
        "yelp = pd.read_csv(url)"
      ],
      "execution_count": 1,
      "outputs": []
    },
    {
      "cell_type": "code",
      "metadata": {
        "colab": {
          "base_uri": "https://localhost:8080/"
        },
        "id": "f_AKDizdSPEJ",
        "outputId": "dc381eb8-4e4a-4a0c-bde4-fe24fac3fddf"
      },
      "source": [
        "# examine the shape\n",
        "yelp.shape"
      ],
      "execution_count": 2,
      "outputs": [
        {
          "output_type": "execute_result",
          "data": {
            "text/plain": [
              "(10000, 10)"
            ]
          },
          "metadata": {
            "tags": []
          },
          "execution_count": 2
        }
      ]
    },
    {
      "cell_type": "code",
      "metadata": {
        "colab": {
          "base_uri": "https://localhost:8080/",
          "height": 77
        },
        "id": "oCpAIOZfSPEL",
        "outputId": "43d32f11-f6fc-40b3-8232-f6087e499a55"
      },
      "source": [
        "# examine the first row\n",
        "yelp.head(1)"
      ],
      "execution_count": 3,
      "outputs": [
        {
          "output_type": "execute_result",
          "data": {
            "text/plain": [
              "              business_id        date               review_id  stars  \\\n",
              "0  9yKzy9PApeiPPOUJEtnvkg  2011-01-26  fWKvX83p0-ka4JS3dc6E5A      5   \n",
              "\n",
              "                                                text    type  \\\n",
              "0  My wife took me here on my birthday for breakf...  review   \n",
              "\n",
              "                  user_id  cool  useful  funny  \n",
              "0  rLtl8ZkDX5vH5nAx9C3q5Q     2       5      0  "
            ],
            "text/html": [
              "<div>\n",
              "<style scoped>\n",
              "    .dataframe tbody tr th:only-of-type {\n",
              "        vertical-align: middle;\n",
              "    }\n",
              "\n",
              "    .dataframe tbody tr th {\n",
              "        vertical-align: top;\n",
              "    }\n",
              "\n",
              "    .dataframe thead th {\n",
              "        text-align: right;\n",
              "    }\n",
              "</style>\n",
              "<table border=\"1\" class=\"dataframe\">\n",
              "  <thead>\n",
              "    <tr style=\"text-align: right;\">\n",
              "      <th></th>\n",
              "      <th>business_id</th>\n",
              "      <th>date</th>\n",
              "      <th>review_id</th>\n",
              "      <th>stars</th>\n",
              "      <th>text</th>\n",
              "      <th>type</th>\n",
              "      <th>user_id</th>\n",
              "      <th>cool</th>\n",
              "      <th>useful</th>\n",
              "      <th>funny</th>\n",
              "    </tr>\n",
              "  </thead>\n",
              "  <tbody>\n",
              "    <tr>\n",
              "      <th>0</th>\n",
              "      <td>9yKzy9PApeiPPOUJEtnvkg</td>\n",
              "      <td>2011-01-26</td>\n",
              "      <td>fWKvX83p0-ka4JS3dc6E5A</td>\n",
              "      <td>5</td>\n",
              "      <td>My wife took me here on my birthday for breakf...</td>\n",
              "      <td>review</td>\n",
              "      <td>rLtl8ZkDX5vH5nAx9C3q5Q</td>\n",
              "      <td>2</td>\n",
              "      <td>5</td>\n",
              "      <td>0</td>\n",
              "    </tr>\n",
              "  </tbody>\n",
              "</table>\n",
              "</div>"
            ]
          },
          "metadata": {
            "tags": []
          },
          "execution_count": 3
        }
      ]
    },
    {
      "cell_type": "code",
      "metadata": {
        "colab": {
          "base_uri": "https://localhost:8080/"
        },
        "id": "gNQKCLRCSPEM",
        "outputId": "af6536f8-2534-4b06-ac36-8c435c806a78"
      },
      "source": [
        "# examine the class distribution\n",
        "yelp.stars.value_counts().sort_index()"
      ],
      "execution_count": 4,
      "outputs": [
        {
          "output_type": "execute_result",
          "data": {
            "text/plain": [
              "1     749\n",
              "2     927\n",
              "3    1461\n",
              "4    3526\n",
              "5    3337\n",
              "Name: stars, dtype: int64"
            ]
          },
          "metadata": {
            "tags": []
          },
          "execution_count": 4
        }
      ]
    },
    {
      "cell_type": "markdown",
      "metadata": {
        "id": "aqWqc0ENSPEM"
      },
      "source": [
        "## Step 2\n",
        "\n",
        "Create a new DataFrame that only contains the **5-star** and **1-star** reviews.\n"
      ]
    },
    {
      "cell_type": "code",
      "metadata": {
        "collapsed": true,
        "id": "kh3nTkOrSPEN"
      },
      "source": [
        "# filter the DataFrame using an OR condition\n",
        "yelp_best_worst = yelp[(yelp.stars==5) | (yelp.stars==1)]\n",
        "\n",
        "# equivalently, use the 'loc' method\n",
        "yelp_best_worst = yelp.loc[(yelp.stars==5) | (yelp.stars==1), :]"
      ],
      "execution_count": 5,
      "outputs": []
    },
    {
      "cell_type": "code",
      "metadata": {
        "colab": {
          "base_uri": "https://localhost:8080/"
        },
        "id": "cAeIdM-5SPEO",
        "outputId": "3d956db8-61b8-4ef8-9d22-b0c22ca8cad5"
      },
      "source": [
        "# examine the shape\n",
        "yelp_best_worst.shape"
      ],
      "execution_count": 6,
      "outputs": [
        {
          "output_type": "execute_result",
          "data": {
            "text/plain": [
              "(4086, 10)"
            ]
          },
          "metadata": {
            "tags": []
          },
          "execution_count": 6
        }
      ]
    },
    {
      "cell_type": "markdown",
      "metadata": {
        "id": "aSb0n0tgSPEO"
      },
      "source": [
        "## step 3\n",
        "\n",
        "Define X and y from the new DataFrame, and then split X and y into training and testing sets, using the **review text** as the only feature and the **star rating** as the response.\n"
      ]
    },
    {
      "cell_type": "code",
      "metadata": {
        "collapsed": true,
        "id": "HDKb-zuNSPEP"
      },
      "source": [
        "# define X and y\n",
        "X = yelp_best_worst.text\n",
        "y = yelp_best_worst.stars"
      ],
      "execution_count": 7,
      "outputs": []
    },
    {
      "cell_type": "code",
      "metadata": {
        "collapsed": true,
        "id": "elXGQxw6SPEP"
      },
      "source": [
        "# split X and y into training and testing sets\n",
        "from sklearn.model_selection import train_test_split\n",
        "X_train, X_test, y_train, y_test = train_test_split(X, y, random_state=1)"
      ],
      "execution_count": 8,
      "outputs": []
    },
    {
      "cell_type": "code",
      "metadata": {
        "colab": {
          "base_uri": "https://localhost:8080/"
        },
        "id": "IgPTR6_dSPEQ",
        "outputId": "2dcd71ae-cf82-4cf3-ab65-dbea354e2d8e"
      },
      "source": [
        "# examine the object shapes\n",
        "print(X_train.shape)\n",
        "print(X_test.shape)\n",
        "print(y_train.shape)\n",
        "print(y_test.shape)"
      ],
      "execution_count": 9,
      "outputs": [
        {
          "output_type": "stream",
          "text": [
            "(3064,)\n",
            "(1022,)\n",
            "(3064,)\n",
            "(1022,)\n"
          ],
          "name": "stdout"
        }
      ]
    },
    {
      "cell_type": "markdown",
      "metadata": {
        "id": "c5BI7q2ySPEQ"
      },
      "source": [
        "## Step 4\n",
        "\n",
        "Use CountVectorizer to create **document-term matrices** from X_train and X_test."
      ]
    },
    {
      "cell_type": "code",
      "metadata": {
        "collapsed": true,
        "id": "veEtzMSfSPER"
      },
      "source": [
        "# import and instantiate CountVectorizer\n",
        "from sklearn.feature_extraction.text import CountVectorizer\n",
        "vect = CountVectorizer()"
      ],
      "execution_count": 10,
      "outputs": []
    },
    {
      "cell_type": "code",
      "metadata": {
        "colab": {
          "base_uri": "https://localhost:8080/"
        },
        "id": "VJviCK2OSPER",
        "outputId": "a8568a62-0d95-4ea0-bb16-dabcbb426a73"
      },
      "source": [
        "# fit and transform X_train into X_train_dtm\n",
        "X_train_dtm = vect.fit_transform(X_train)\n",
        "X_train_dtm.shape"
      ],
      "execution_count": 11,
      "outputs": [
        {
          "output_type": "execute_result",
          "data": {
            "text/plain": [
              "(3064, 16825)"
            ]
          },
          "metadata": {
            "tags": []
          },
          "execution_count": 11
        }
      ]
    },
    {
      "cell_type": "code",
      "metadata": {
        "colab": {
          "base_uri": "https://localhost:8080/"
        },
        "id": "GQd6s7TlSPES",
        "outputId": "48ac7810-9efd-41a0-b27e-27cd997e5dba"
      },
      "source": [
        "# transform X_test into X_test_dtm\n",
        "X_test_dtm = vect.transform(X_test)\n",
        "X_test_dtm.shape"
      ],
      "execution_count": 12,
      "outputs": [
        {
          "output_type": "execute_result",
          "data": {
            "text/plain": [
              "(1022, 16825)"
            ]
          },
          "metadata": {
            "tags": []
          },
          "execution_count": 12
        }
      ]
    },
    {
      "cell_type": "markdown",
      "metadata": {
        "id": "NwCxHt2-SPES"
      },
      "source": [
        "## Step 5\n",
        "\n",
        "Use multinomial Naive Bayes to **predict the star rating** for the reviews in the testing set, and then **calculate the accuracy** and **print the confusion matrix**.\n"
      ]
    },
    {
      "cell_type": "code",
      "metadata": {
        "collapsed": true,
        "id": "UBfdopMzSPET"
      },
      "source": [
        "# import and instantiate MultinomialNB\n",
        "from sklearn.naive_bayes import MultinomialNB\n",
        "nb = MultinomialNB()"
      ],
      "execution_count": 13,
      "outputs": []
    },
    {
      "cell_type": "code",
      "metadata": {
        "colab": {
          "base_uri": "https://localhost:8080/"
        },
        "id": "lkmCAkUDSPET",
        "outputId": "12b3f586-07ca-42bc-d8d8-6eaf76ae96df"
      },
      "source": [
        "# train the model using X_train_dtm\n",
        "nb.fit(X_train_dtm, y_train)"
      ],
      "execution_count": 14,
      "outputs": [
        {
          "output_type": "execute_result",
          "data": {
            "text/plain": [
              "MultinomialNB(alpha=1.0, class_prior=None, fit_prior=True)"
            ]
          },
          "metadata": {
            "tags": []
          },
          "execution_count": 14
        }
      ]
    },
    {
      "cell_type": "code",
      "metadata": {
        "collapsed": true,
        "id": "1OL-D89bSPEU"
      },
      "source": [
        "# make class predictions for X_test_dtm\n",
        "y_pred_class = nb.predict(X_test_dtm)"
      ],
      "execution_count": 15,
      "outputs": []
    },
    {
      "cell_type": "code",
      "metadata": {
        "colab": {
          "base_uri": "https://localhost:8080/"
        },
        "id": "9GiACKbbSPEU",
        "outputId": "35599165-43ad-42c1-dc67-2ee390cd7675"
      },
      "source": [
        "# calculate accuracy of class predictions\n",
        "from sklearn import metrics\n",
        "metrics.accuracy_score(y_test, y_pred_class)"
      ],
      "execution_count": 16,
      "outputs": [
        {
          "output_type": "execute_result",
          "data": {
            "text/plain": [
              "0.9187866927592955"
            ]
          },
          "metadata": {
            "tags": []
          },
          "execution_count": 16
        }
      ]
    },
    {
      "cell_type": "code",
      "metadata": {
        "colab": {
          "base_uri": "https://localhost:8080/"
        },
        "id": "lSpjrW1oSPEV",
        "outputId": "0aa4daa3-f79a-493e-b9b0-275ddee45d6b"
      },
      "source": [
        "# print the confusion matrix\n",
        "metrics.confusion_matrix(y_test, y_pred_class)"
      ],
      "execution_count": 17,
      "outputs": [
        {
          "output_type": "execute_result",
          "data": {
            "text/plain": [
              "array([[126,  58],\n",
              "       [ 25, 813]])"
            ]
          },
          "metadata": {
            "tags": []
          },
          "execution_count": 17
        }
      ]
    },
    {
      "cell_type": "markdown",
      "metadata": {
        "id": "6o0wYPlqSPEW"
      },
      "source": [
        "## Step 6\n",
        "\n",
        "Calculate the **null accuracy**, which is the classification accuracy that could be achieved by always predicting the most frequent class.\n"
      ]
    },
    {
      "cell_type": "code",
      "metadata": {
        "colab": {
          "base_uri": "https://localhost:8080/"
        },
        "id": "ncR0cf5cSPEW",
        "outputId": "4eac05a9-6a3a-4ca0-f222-aa7e6810c161"
      },
      "source": [
        "# examine the class distribution of the testing set\n",
        "y_test.value_counts()"
      ],
      "execution_count": 18,
      "outputs": [
        {
          "output_type": "execute_result",
          "data": {
            "text/plain": [
              "5    838\n",
              "1    184\n",
              "Name: stars, dtype: int64"
            ]
          },
          "metadata": {
            "tags": []
          },
          "execution_count": 18
        }
      ]
    },
    {
      "cell_type": "code",
      "metadata": {
        "colab": {
          "base_uri": "https://localhost:8080/"
        },
        "id": "UttxeTNZSPEX",
        "outputId": "7aed8f04-c814-40e8-9139-e946d0515f3a"
      },
      "source": [
        "# calculate null accuracy\n",
        "y_test.value_counts().head(1) / y_test.shape"
      ],
      "execution_count": 19,
      "outputs": [
        {
          "output_type": "execute_result",
          "data": {
            "text/plain": [
              "5    0.819961\n",
              "Name: stars, dtype: float64"
            ]
          },
          "metadata": {
            "tags": []
          },
          "execution_count": 19
        }
      ]
    },
    {
      "cell_type": "code",
      "metadata": {
        "colab": {
          "base_uri": "https://localhost:8080/"
        },
        "id": "plfHKwR3SPEX",
        "outputId": "8ebd2c29-7718-44d9-c065-9ce96fffbc7b"
      },
      "source": [
        "# calculate null accuracy manually\n",
        "838 / float(838 + 184)"
      ],
      "execution_count": 20,
      "outputs": [
        {
          "output_type": "execute_result",
          "data": {
            "text/plain": [
              "0.8199608610567515"
            ]
          },
          "metadata": {
            "tags": []
          },
          "execution_count": 20
        }
      ]
    },
    {
      "cell_type": "markdown",
      "metadata": {
        "id": "jr5qPnTvSPEY"
      },
      "source": [
        "## Step 7\n",
        "\n",
        "Browse through the review text of some of the **false positives** and **false negatives**. Based on your knowledge of how Naive Bayes works, do you have any ideas about why the model is incorrectly classifying these reviews?\n"
      ]
    },
    {
      "cell_type": "code",
      "metadata": {
        "colab": {
          "base_uri": "https://localhost:8080/"
        },
        "id": "sR2HO7KtSPEY",
        "outputId": "8378bc3e-43b8-4753-f74e-1bf8c9d6401a"
      },
      "source": [
        "# first 10 false positives (1-star reviews incorrectly classified as 5-star reviews)\n",
        "X_test[y_test < y_pred_class].head(10)"
      ],
      "execution_count": 21,
      "outputs": [
        {
          "output_type": "execute_result",
          "data": {
            "text/plain": [
              "2175    This has to be the worst restaurant in terms o...\n",
              "1781    If you like the stuck up Scottsdale vibe this ...\n",
              "2674    I'm sorry to be what seems to be the lone one ...\n",
              "9984    Went last night to Whore Foods to get basics t...\n",
              "3392    I found Lisa G's while driving through phoenix...\n",
              "8283    Don't know where I should start. Grand opening...\n",
              "2765    Went last week, and ordered a dozen variety. I...\n",
              "2839    Never Again,\\nI brought my Mountain Bike in (w...\n",
              "321     My wife and I live around the corner, hadn't e...\n",
              "1919                                         D-scust-ing.\n",
              "Name: text, dtype: object"
            ]
          },
          "metadata": {
            "tags": []
          },
          "execution_count": 21
        }
      ]
    },
    {
      "cell_type": "code",
      "metadata": {
        "colab": {
          "base_uri": "https://localhost:8080/",
          "height": 34
        },
        "id": "m9pqQtixSPEZ",
        "outputId": "60592c1e-bbfa-443a-d538-57cbcfa2eb1c"
      },
      "source": [
        "# false positive: model is reacting to the words \"good\", \"impressive\", \"nice\"\n",
        "X_test[1781]"
      ],
      "execution_count": 22,
      "outputs": [
        {
          "output_type": "execute_result",
          "data": {
            "application/vnd.google.colaboratory.intrinsic+json": {
              "type": "string"
            },
            "text/plain": [
              "\"If you like the stuck up Scottsdale vibe this is a good place for you. The food isn't impressive. Nice outdoor seating.\""
            ]
          },
          "metadata": {
            "tags": []
          },
          "execution_count": 22
        }
      ]
    },
    {
      "cell_type": "code",
      "metadata": {
        "colab": {
          "base_uri": "https://localhost:8080/",
          "height": 34
        },
        "id": "pEilnE_FSPEZ",
        "outputId": "e19e7c61-acbe-4dd5-e818-3d785780508e"
      },
      "source": [
        "# false positive: model does not have enough data to work with\n",
        "X_test[1919]"
      ],
      "execution_count": 23,
      "outputs": [
        {
          "output_type": "execute_result",
          "data": {
            "application/vnd.google.colaboratory.intrinsic+json": {
              "type": "string"
            },
            "text/plain": [
              "'D-scust-ing.'"
            ]
          },
          "metadata": {
            "tags": []
          },
          "execution_count": 23
        }
      ]
    },
    {
      "cell_type": "code",
      "metadata": {
        "colab": {
          "base_uri": "https://localhost:8080/"
        },
        "id": "hfqV6VhKSPEb",
        "outputId": "1e20f412-1c27-4a9b-937d-3d1c86f4352c"
      },
      "source": [
        "# first 10 false negatives (5-star reviews incorrectly classified as 1-star reviews)\n",
        "X_test[y_test > y_pred_class].head(10)"
      ],
      "execution_count": 24,
      "outputs": [
        {
          "output_type": "execute_result",
          "data": {
            "text/plain": [
              "7148    I now consider myself an Arizonian. If you dri...\n",
              "4963    This is by far my favourite department store, ...\n",
              "6318    Since I have ranted recently on poor customer ...\n",
              "380     This is a must try for any Mani Pedi fan. I us...\n",
              "5565    I`ve had work done by this shop a few times th...\n",
              "3448    I was there last week with my sisters and whil...\n",
              "6050    I went to sears today to check on a layaway th...\n",
              "2504    I've passed by prestige nails in walmart 100s ...\n",
              "2475    This place is so great! I am a nanny and had t...\n",
              "241     I was sad to come back to lai lai's and they n...\n",
              "Name: text, dtype: object"
            ]
          },
          "metadata": {
            "tags": []
          },
          "execution_count": 24
        }
      ]
    },
    {
      "cell_type": "code",
      "metadata": {
        "colab": {
          "base_uri": "https://localhost:8080/",
          "height": 118
        },
        "id": "UYSbwhKfSPEb",
        "outputId": "66e7d255-ae64-4a1f-8f05-30a71fac177d"
      },
      "source": [
        "# false negative: model is reacting to the words \"complain\", \"crowds\", \"rushing\", \"pricey\", \"scum\"\n",
        "X_test[4963]"
      ],
      "execution_count": 25,
      "outputs": [
        {
          "output_type": "execute_result",
          "data": {
            "application/vnd.google.colaboratory.intrinsic+json": {
              "type": "string"
            },
            "text/plain": [
              "'This is by far my favourite department store, hands down. I have had nothing but perfect experiences in this store, without exception, no matter what department I\\'m in. The shoe SA\\'s will bend over backwards to help you find a specific shoe, and the staff will even go so far as to send out hand-written thank you cards to your home address after you make a purchase - big or small. Tim & Anthony in the shoe salon are fabulous beyond words! \\n\\nI am not completely sure that I understand why people complain about the amount of merchandise on the floor or the lack of crowds in this store. Frankly, I would rather not be bombarded with merchandise and other people. One of the things I love the most about Barney\\'s is not only the prompt attention of SA\\'s, but the fact that they aren\\'t rushing around trying to help 35 people at once. The SA\\'s at Barney\\'s are incredibly friendly and will stop to have an actual conversation, regardless or whether you are purchasing something or not. I have also never experienced a \"high pressure\" sale situation here.\\n\\nAll in all, Barneys is pricey, and there is no getting around it. But, um, so is Neiman\\'s and that place is a crock. Anywhere that ONLY accepts American Express or their charge card and then treats you like scum if you aren\\'t carrying neither is no place that I want to spend my hard earned dollars. Yay Barneys!'"
            ]
          },
          "metadata": {
            "tags": []
          },
          "execution_count": 25
        }
      ]
    },
    {
      "cell_type": "markdown",
      "metadata": {
        "id": "yYhxDWEfSPEc"
      },
      "source": [
        "## step 8\n",
        "\n",
        "Calculate which 10 tokens are the most predictive of **5-star reviews**, and which 10 tokens are the most predictive of **1-star reviews**.\n",
        "\n",
        "- Naive Bayes automatically counts the number of times each token appears in each class, as well as the number of observations in each class. You can access these counts via the `feature_count_` and `class_count_` attributes of the Naive Bayes model object."
      ]
    },
    {
      "cell_type": "code",
      "metadata": {
        "colab": {
          "base_uri": "https://localhost:8080/"
        },
        "id": "m8mx_1GPSPEc",
        "outputId": "d80df536-da93-4f75-a9ec-7ca89f690fd8"
      },
      "source": [
        "# store the vocabulary of X_train\n",
        "X_train_tokens = vect.get_feature_names()\n",
        "len(X_train_tokens)"
      ],
      "execution_count": 26,
      "outputs": [
        {
          "output_type": "execute_result",
          "data": {
            "text/plain": [
              "16825"
            ]
          },
          "metadata": {
            "tags": []
          },
          "execution_count": 26
        }
      ]
    },
    {
      "cell_type": "code",
      "metadata": {
        "colab": {
          "base_uri": "https://localhost:8080/"
        },
        "id": "uKCD7MxvSPEd",
        "outputId": "93f67c47-f123-4c22-91c1-702df8d16a72"
      },
      "source": [
        "# first row is one-star reviews, second row is five-star reviews\n",
        "nb.feature_count_.shape"
      ],
      "execution_count": 27,
      "outputs": [
        {
          "output_type": "execute_result",
          "data": {
            "text/plain": [
              "(2, 16825)"
            ]
          },
          "metadata": {
            "tags": []
          },
          "execution_count": 27
        }
      ]
    },
    {
      "cell_type": "code",
      "metadata": {
        "collapsed": true,
        "id": "6-hG6slqSPEe"
      },
      "source": [
        "# store the number of times each token appears across each class\n",
        "one_star_token_count = nb.feature_count_[0, :]\n",
        "five_star_token_count = nb.feature_count_[1, :]"
      ],
      "execution_count": 28,
      "outputs": []
    },
    {
      "cell_type": "code",
      "metadata": {
        "collapsed": true,
        "id": "6T_5T0D1SPEe"
      },
      "source": [
        "# create a DataFrame of tokens with their separate one-star and five-star counts\n",
        "tokens = pd.DataFrame({'token':X_train_tokens, 'one_star':one_star_token_count, 'five_star':five_star_token_count}).set_index('token')"
      ],
      "execution_count": 29,
      "outputs": []
    },
    {
      "cell_type": "code",
      "metadata": {
        "collapsed": true,
        "id": "EHqHTjmpSPEe"
      },
      "source": [
        "# add 1 to one-star and five-star counts to avoid dividing by 0\n",
        "tokens['one_star'] = tokens.one_star + 1\n",
        "tokens['five_star'] = tokens.five_star + 1"
      ],
      "execution_count": 30,
      "outputs": []
    },
    {
      "cell_type": "code",
      "metadata": {
        "colab": {
          "base_uri": "https://localhost:8080/"
        },
        "id": "h80xRZL-SPEf",
        "outputId": "e2d544da-21e9-428f-a580-7f734bb60d10"
      },
      "source": [
        "# first number is one-star reviews, second number is five-star reviews\n",
        "nb.class_count_"
      ],
      "execution_count": 31,
      "outputs": [
        {
          "output_type": "execute_result",
          "data": {
            "text/plain": [
              "array([ 565., 2499.])"
            ]
          },
          "metadata": {
            "tags": []
          },
          "execution_count": 31
        }
      ]
    },
    {
      "cell_type": "code",
      "metadata": {
        "collapsed": true,
        "id": "4LX_92PCSPEf"
      },
      "source": [
        "# convert the one-star and five-star counts into frequencies\n",
        "tokens['one_star'] = tokens.one_star / nb.class_count_[0]\n",
        "tokens['five_star'] = tokens.five_star / nb.class_count_[1]"
      ],
      "execution_count": 32,
      "outputs": []
    },
    {
      "cell_type": "code",
      "metadata": {
        "collapsed": true,
        "id": "1QfsZ7WOSPEg"
      },
      "source": [
        "# calculate the ratio of five-star to one-star for each token\n",
        "tokens['five_star_ratio'] = tokens.five_star / tokens.one_star"
      ],
      "execution_count": 33,
      "outputs": []
    },
    {
      "cell_type": "code",
      "metadata": {
        "colab": {
          "base_uri": "https://localhost:8080/",
          "height": 377
        },
        "id": "G6x9Db9kSPEg",
        "outputId": "1e53d983-1fb1-4745-dee1-8d9412e30a5a"
      },
      "source": [
        "# sort the DataFrame by five_star_ratio (descending order), and examine the first 10 rows\n",
        "# note: use sort() instead of sort_values() for pandas 0.16.2 and earlier\n",
        "tokens.sort_values('five_star_ratio', ascending=False).head(10)"
      ],
      "execution_count": 34,
      "outputs": [
        {
          "output_type": "execute_result",
          "data": {
            "text/plain": [
              "             five_star  one_star  five_star_ratio\n",
              "token                                            \n",
              "fantastic     0.077231  0.003540        21.817727\n",
              "perfect       0.098039  0.005310        18.464052\n",
              "yum           0.024810  0.001770        14.017607\n",
              "favorite      0.138055  0.012389        11.143029\n",
              "outstanding   0.019608  0.001770        11.078431\n",
              "brunch        0.016807  0.001770         9.495798\n",
              "gem           0.016006  0.001770         9.043617\n",
              "mozzarella    0.015606  0.001770         8.817527\n",
              "pasty         0.015606  0.001770         8.817527\n",
              "amazing       0.185274  0.021239         8.723323"
            ],
            "text/html": [
              "<div>\n",
              "<style scoped>\n",
              "    .dataframe tbody tr th:only-of-type {\n",
              "        vertical-align: middle;\n",
              "    }\n",
              "\n",
              "    .dataframe tbody tr th {\n",
              "        vertical-align: top;\n",
              "    }\n",
              "\n",
              "    .dataframe thead th {\n",
              "        text-align: right;\n",
              "    }\n",
              "</style>\n",
              "<table border=\"1\" class=\"dataframe\">\n",
              "  <thead>\n",
              "    <tr style=\"text-align: right;\">\n",
              "      <th></th>\n",
              "      <th>five_star</th>\n",
              "      <th>one_star</th>\n",
              "      <th>five_star_ratio</th>\n",
              "    </tr>\n",
              "    <tr>\n",
              "      <th>token</th>\n",
              "      <th></th>\n",
              "      <th></th>\n",
              "      <th></th>\n",
              "    </tr>\n",
              "  </thead>\n",
              "  <tbody>\n",
              "    <tr>\n",
              "      <th>fantastic</th>\n",
              "      <td>0.077231</td>\n",
              "      <td>0.003540</td>\n",
              "      <td>21.817727</td>\n",
              "    </tr>\n",
              "    <tr>\n",
              "      <th>perfect</th>\n",
              "      <td>0.098039</td>\n",
              "      <td>0.005310</td>\n",
              "      <td>18.464052</td>\n",
              "    </tr>\n",
              "    <tr>\n",
              "      <th>yum</th>\n",
              "      <td>0.024810</td>\n",
              "      <td>0.001770</td>\n",
              "      <td>14.017607</td>\n",
              "    </tr>\n",
              "    <tr>\n",
              "      <th>favorite</th>\n",
              "      <td>0.138055</td>\n",
              "      <td>0.012389</td>\n",
              "      <td>11.143029</td>\n",
              "    </tr>\n",
              "    <tr>\n",
              "      <th>outstanding</th>\n",
              "      <td>0.019608</td>\n",
              "      <td>0.001770</td>\n",
              "      <td>11.078431</td>\n",
              "    </tr>\n",
              "    <tr>\n",
              "      <th>brunch</th>\n",
              "      <td>0.016807</td>\n",
              "      <td>0.001770</td>\n",
              "      <td>9.495798</td>\n",
              "    </tr>\n",
              "    <tr>\n",
              "      <th>gem</th>\n",
              "      <td>0.016006</td>\n",
              "      <td>0.001770</td>\n",
              "      <td>9.043617</td>\n",
              "    </tr>\n",
              "    <tr>\n",
              "      <th>mozzarella</th>\n",
              "      <td>0.015606</td>\n",
              "      <td>0.001770</td>\n",
              "      <td>8.817527</td>\n",
              "    </tr>\n",
              "    <tr>\n",
              "      <th>pasty</th>\n",
              "      <td>0.015606</td>\n",
              "      <td>0.001770</td>\n",
              "      <td>8.817527</td>\n",
              "    </tr>\n",
              "    <tr>\n",
              "      <th>amazing</th>\n",
              "      <td>0.185274</td>\n",
              "      <td>0.021239</td>\n",
              "      <td>8.723323</td>\n",
              "    </tr>\n",
              "  </tbody>\n",
              "</table>\n",
              "</div>"
            ]
          },
          "metadata": {
            "tags": []
          },
          "execution_count": 34
        }
      ]
    },
    {
      "cell_type": "code",
      "metadata": {
        "colab": {
          "base_uri": "https://localhost:8080/",
          "height": 377
        },
        "id": "2hWx1F1RSPEg",
        "outputId": "e67da219-8ab1-4bd7-85fe-bc14ecf96e55"
      },
      "source": [
        "# sort the DataFrame by five_star_ratio (ascending order), and examine the first 10 rows\n",
        "tokens.sort_values('five_star_ratio', ascending=True).head(10)"
      ],
      "execution_count": 35,
      "outputs": [
        {
          "output_type": "execute_result",
          "data": {
            "text/plain": [
              "                five_star  one_star  five_star_ratio\n",
              "token                                               \n",
              "staffperson        0.0004  0.030088         0.013299\n",
              "refused            0.0004  0.024779         0.016149\n",
              "disgusting         0.0008  0.042478         0.018841\n",
              "filthy             0.0004  0.019469         0.020554\n",
              "unprofessional     0.0004  0.015929         0.025121\n",
              "unacceptable       0.0004  0.015929         0.025121\n",
              "acknowledge        0.0004  0.015929         0.025121\n",
              "ugh                0.0008  0.030088         0.026599\n",
              "fuse               0.0004  0.014159         0.028261\n",
              "boca               0.0004  0.014159         0.028261"
            ],
            "text/html": [
              "<div>\n",
              "<style scoped>\n",
              "    .dataframe tbody tr th:only-of-type {\n",
              "        vertical-align: middle;\n",
              "    }\n",
              "\n",
              "    .dataframe tbody tr th {\n",
              "        vertical-align: top;\n",
              "    }\n",
              "\n",
              "    .dataframe thead th {\n",
              "        text-align: right;\n",
              "    }\n",
              "</style>\n",
              "<table border=\"1\" class=\"dataframe\">\n",
              "  <thead>\n",
              "    <tr style=\"text-align: right;\">\n",
              "      <th></th>\n",
              "      <th>five_star</th>\n",
              "      <th>one_star</th>\n",
              "      <th>five_star_ratio</th>\n",
              "    </tr>\n",
              "    <tr>\n",
              "      <th>token</th>\n",
              "      <th></th>\n",
              "      <th></th>\n",
              "      <th></th>\n",
              "    </tr>\n",
              "  </thead>\n",
              "  <tbody>\n",
              "    <tr>\n",
              "      <th>staffperson</th>\n",
              "      <td>0.0004</td>\n",
              "      <td>0.030088</td>\n",
              "      <td>0.013299</td>\n",
              "    </tr>\n",
              "    <tr>\n",
              "      <th>refused</th>\n",
              "      <td>0.0004</td>\n",
              "      <td>0.024779</td>\n",
              "      <td>0.016149</td>\n",
              "    </tr>\n",
              "    <tr>\n",
              "      <th>disgusting</th>\n",
              "      <td>0.0008</td>\n",
              "      <td>0.042478</td>\n",
              "      <td>0.018841</td>\n",
              "    </tr>\n",
              "    <tr>\n",
              "      <th>filthy</th>\n",
              "      <td>0.0004</td>\n",
              "      <td>0.019469</td>\n",
              "      <td>0.020554</td>\n",
              "    </tr>\n",
              "    <tr>\n",
              "      <th>unprofessional</th>\n",
              "      <td>0.0004</td>\n",
              "      <td>0.015929</td>\n",
              "      <td>0.025121</td>\n",
              "    </tr>\n",
              "    <tr>\n",
              "      <th>unacceptable</th>\n",
              "      <td>0.0004</td>\n",
              "      <td>0.015929</td>\n",
              "      <td>0.025121</td>\n",
              "    </tr>\n",
              "    <tr>\n",
              "      <th>acknowledge</th>\n",
              "      <td>0.0004</td>\n",
              "      <td>0.015929</td>\n",
              "      <td>0.025121</td>\n",
              "    </tr>\n",
              "    <tr>\n",
              "      <th>ugh</th>\n",
              "      <td>0.0008</td>\n",
              "      <td>0.030088</td>\n",
              "      <td>0.026599</td>\n",
              "    </tr>\n",
              "    <tr>\n",
              "      <th>fuse</th>\n",
              "      <td>0.0004</td>\n",
              "      <td>0.014159</td>\n",
              "      <td>0.028261</td>\n",
              "    </tr>\n",
              "    <tr>\n",
              "      <th>boca</th>\n",
              "      <td>0.0004</td>\n",
              "      <td>0.014159</td>\n",
              "      <td>0.028261</td>\n",
              "    </tr>\n",
              "  </tbody>\n",
              "</table>\n",
              "</div>"
            ]
          },
          "metadata": {
            "tags": []
          },
          "execution_count": 35
        }
      ]
    },
    {
      "cell_type": "markdown",
      "metadata": {
        "id": "SZQ7C_0HSPEh"
      },
      "source": [
        "## step 9\n",
        "\n",
        "Up to this point, we have framed this as a **binary classification problem** by only considering the 5-star and 1-star reviews. Now, let's repeat the model building process using all reviews, which makes this a **5-class classification problem**.\n",
        "\n",
        "Here are the steps:\n",
        "\n",
        "- Define X and y using the original DataFrame. (y should contain 5 different classes.)\n",
        "- Split X and y into training and testing sets.\n",
        "- Create document-term matrices using CountVectorizer.\n",
        "- Calculate the testing accuracy of a Multinomial Naive Bayes model.\n",
        "- Compare the testing accuracy with the null accuracy, and comment on the results.\n",
        "- Print the confusion matrix, and comment on the results.\n",
        "- Print the [classification report](http://scikit-learn.org/stable/modules/model_evaluation.html#classification-report), and comment on the results. If you are unfamiliar with the terminology it uses, research the terms, and then try to figure out how to calculate these metrics manually from the confusion matrix!"
      ]
    },
    {
      "cell_type": "code",
      "metadata": {
        "collapsed": true,
        "id": "bQAeNNxYSPEh"
      },
      "source": [
        "# define X and y using the original DataFrame\n",
        "X = yelp.text\n",
        "y = yelp.stars"
      ],
      "execution_count": 36,
      "outputs": []
    },
    {
      "cell_type": "code",
      "metadata": {
        "colab": {
          "base_uri": "https://localhost:8080/"
        },
        "id": "5zecQkFUSPEi",
        "outputId": "bb1ea8af-a7ca-455d-e624-39706f7f2661"
      },
      "source": [
        "# check that y contains 5 different classes\n",
        "y.value_counts().sort_index()"
      ],
      "execution_count": 37,
      "outputs": [
        {
          "output_type": "execute_result",
          "data": {
            "text/plain": [
              "1     749\n",
              "2     927\n",
              "3    1461\n",
              "4    3526\n",
              "5    3337\n",
              "Name: stars, dtype: int64"
            ]
          },
          "metadata": {
            "tags": []
          },
          "execution_count": 37
        }
      ]
    },
    {
      "cell_type": "code",
      "metadata": {
        "collapsed": true,
        "id": "d5WbF5LqSPEj"
      },
      "source": [
        "# split X and y into training and testing sets\n",
        "X_train, X_test, y_train, y_test = train_test_split(X, y, random_state=1)"
      ],
      "execution_count": 38,
      "outputs": []
    },
    {
      "cell_type": "code",
      "metadata": {
        "collapsed": true,
        "id": "x4SQfiMESPEj"
      },
      "source": [
        "# create document-term matrices using CountVectorizer\n",
        "X_train_dtm = vect.fit_transform(X_train)\n",
        "X_test_dtm = vect.transform(X_test)"
      ],
      "execution_count": 39,
      "outputs": []
    },
    {
      "cell_type": "code",
      "metadata": {
        "colab": {
          "base_uri": "https://localhost:8080/"
        },
        "id": "ce5Eof3SSPEj",
        "outputId": "5959ea55-cb9f-41d6-8f0e-9a7050003087"
      },
      "source": [
        "# fit a Multinomial Naive Bayes model\n",
        "nb.fit(X_train_dtm, y_train)"
      ],
      "execution_count": 40,
      "outputs": [
        {
          "output_type": "execute_result",
          "data": {
            "text/plain": [
              "MultinomialNB(alpha=1.0, class_prior=None, fit_prior=True)"
            ]
          },
          "metadata": {
            "tags": []
          },
          "execution_count": 40
        }
      ]
    },
    {
      "cell_type": "code",
      "metadata": {
        "collapsed": true,
        "id": "79LMW3FISPEk"
      },
      "source": [
        "# make class predictions\n",
        "y_pred_class = nb.predict(X_test_dtm)"
      ],
      "execution_count": 41,
      "outputs": []
    },
    {
      "cell_type": "code",
      "metadata": {
        "colab": {
          "base_uri": "https://localhost:8080/"
        },
        "id": "_cPZzexMSPEk",
        "outputId": "3c1e4ffe-6d1e-4a15-b293-9b1bc8d48f06"
      },
      "source": [
        "# calculate the accuary\n",
        "metrics.accuracy_score(y_test, y_pred_class)"
      ],
      "execution_count": 42,
      "outputs": [
        {
          "output_type": "execute_result",
          "data": {
            "text/plain": [
              "0.4712"
            ]
          },
          "metadata": {
            "tags": []
          },
          "execution_count": 42
        }
      ]
    },
    {
      "cell_type": "code",
      "metadata": {
        "colab": {
          "base_uri": "https://localhost:8080/"
        },
        "id": "6A-Ck0DRSPEl",
        "outputId": "44ce83c5-95e3-4c68-b75b-b4d262d078c5"
      },
      "source": [
        "# calculate the null accuracy\n",
        "y_test.value_counts().head(1) / y_test.shape"
      ],
      "execution_count": 43,
      "outputs": [
        {
          "output_type": "execute_result",
          "data": {
            "text/plain": [
              "4    0.3536\n",
              "Name: stars, dtype: float64"
            ]
          },
          "metadata": {
            "tags": []
          },
          "execution_count": 43
        }
      ]
    },
    {
      "cell_type": "markdown",
      "metadata": {
        "id": "M4Mf6TmdSPEl"
      },
      "source": [
        "**Accuracy comments:** At first glance, 47% accuracy does not seem very good, given that it is not much higher than the null accuracy. However, I would consider the 47% accuracy to be quite impressive, given that humans would also have a hard time precisely identifying the star rating for many of these reviews."
      ]
    },
    {
      "cell_type": "code",
      "metadata": {
        "colab": {
          "base_uri": "https://localhost:8080/"
        },
        "id": "-3aP4YttSPEm",
        "outputId": "9c16751b-221a-45cf-9467-00417e6b3ff2"
      },
      "source": [
        "# print the confusion matrix\n",
        "metrics.confusion_matrix(y_test, y_pred_class)"
      ],
      "execution_count": 44,
      "outputs": [
        {
          "output_type": "execute_result",
          "data": {
            "text/plain": [
              "array([[ 55,  14,  24,  65,  27],\n",
              "       [ 28,  16,  41, 122,  27],\n",
              "       [  5,   7,  35, 281,  37],\n",
              "       [  7,   0,  16, 629, 232],\n",
              "       [  6,   4,   6, 373, 443]])"
            ]
          },
          "metadata": {
            "tags": []
          },
          "execution_count": 44
        }
      ]
    },
    {
      "cell_type": "markdown",
      "metadata": {
        "id": "F4qYALRsSPEm"
      },
      "source": [
        "**Confusion matrix comments:**\n",
        "\n",
        "- Nearly all 4-star and 5-star reviews are classified as 4 or 5 stars, but they are hard for the model to distinguish between.\n",
        "- 1-star, 2-star, and 3-star reviews are most commonly classified as 4 stars, probably because it's the predominant class in the training data."
      ]
    },
    {
      "cell_type": "code",
      "metadata": {
        "colab": {
          "base_uri": "https://localhost:8080/"
        },
        "id": "3eP3exkySPEm",
        "outputId": "60a56a8e-0510-4143-a29e-60092bdfc267"
      },
      "source": [
        "# print the classification report\n",
        "print(metrics.classification_report(y_test, y_pred_class))"
      ],
      "execution_count": 45,
      "outputs": [
        {
          "output_type": "stream",
          "text": [
            "              precision    recall  f1-score   support\n",
            "\n",
            "           1       0.54      0.30      0.38       185\n",
            "           2       0.39      0.07      0.12       234\n",
            "           3       0.29      0.10      0.14       365\n",
            "           4       0.43      0.71      0.53       884\n",
            "           5       0.58      0.53      0.55       832\n",
            "\n",
            "   micro avg       0.47      0.47      0.47      2500\n",
            "   macro avg       0.45      0.34      0.35      2500\n",
            "weighted avg       0.46      0.47      0.43      2500\n",
            "\n"
          ],
          "name": "stdout"
        }
      ]
    },
    {
      "cell_type": "markdown",
      "metadata": {
        "id": "j58Q5bbZSPEn"
      },
      "source": [
        "**Precision** answers the question: \"When a given class is predicted, how often are those predictions correct?\" To calculate the precision for class 1, for example, you divide 55 by the sum of the first column of the confusion matrix."
      ]
    },
    {
      "cell_type": "code",
      "metadata": {
        "colab": {
          "base_uri": "https://localhost:8080/"
        },
        "id": "NpueqF52SPEn",
        "outputId": "4da2aa9b-04c4-4bf1-f921-750f4748e12d"
      },
      "source": [
        "# manually calculate the precision for class 1\n",
        "precision = 55 / float(55 + 28 + 5 + 7 + 6)\n",
        "print(precision)"
      ],
      "execution_count": 46,
      "outputs": [
        {
          "output_type": "stream",
          "text": [
            "0.544554455446\n"
          ],
          "name": "stdout"
        }
      ]
    },
    {
      "cell_type": "markdown",
      "metadata": {
        "id": "1fph9cnHSPEo"
      },
      "source": [
        "**Recall** answers the question: \"When a given class is the true class, how often is that class predicted?\" To calculate the recall for class 1, for example, you divide 55 by the sum of the first row of the confusion matrix."
      ]
    },
    {
      "cell_type": "code",
      "metadata": {
        "colab": {
          "base_uri": "https://localhost:8080/"
        },
        "id": "L1IXNJIrSPEo",
        "outputId": "290d7268-8ea3-4ae9-b627-58bdda00db49"
      },
      "source": [
        "# manually calculate the recall for class 1\n",
        "recall = 55 / float(55 + 14 + 24 + 65 + 27)\n",
        "print(recall)"
      ],
      "execution_count": 47,
      "outputs": [
        {
          "output_type": "stream",
          "text": [
            "0.297297297297\n"
          ],
          "name": "stdout"
        }
      ]
    },
    {
      "cell_type": "markdown",
      "metadata": {
        "id": "2GnKroRVSPEo"
      },
      "source": [
        "**F1 score** is a weighted average of precision and recall."
      ]
    },
    {
      "cell_type": "code",
      "metadata": {
        "colab": {
          "base_uri": "https://localhost:8080/"
        },
        "id": "7Vtkn8W6SPEp",
        "outputId": "c8b9e938-9ee9-4350-90c0-2fd62b06d152"
      },
      "source": [
        "# manually calculate the F1 score for class 1\n",
        "f1 = 2 * (precision * recall) / (precision + recall)\n",
        "print(f1)"
      ],
      "execution_count": 48,
      "outputs": [
        {
          "output_type": "stream",
          "text": [
            "0.384615384615\n"
          ],
          "name": "stdout"
        }
      ]
    },
    {
      "cell_type": "markdown",
      "metadata": {
        "id": "uXlq_QhCSPEp"
      },
      "source": [
        "**Support** answers the question: \"How many observations exist for which a given class is the true class?\" To calculate the support for class 1, for example, you sum the first row of the confusion matrix."
      ]
    },
    {
      "cell_type": "code",
      "metadata": {
        "colab": {
          "base_uri": "https://localhost:8080/"
        },
        "id": "MbUEVwTCSPEq",
        "outputId": "9c1bdb69-a97c-418e-a013-0c7aa44d4117"
      },
      "source": [
        "# manually calculate the support for class 1\n",
        "support = 55 + 14 + 24 + 65 + 27\n",
        "print(support)"
      ],
      "execution_count": 49,
      "outputs": [
        {
          "output_type": "stream",
          "text": [
            "185\n"
          ],
          "name": "stdout"
        }
      ]
    },
    {
      "cell_type": "markdown",
      "metadata": {
        "id": "PDclizSTSPEq"
      },
      "source": [
        "**Classification report comments:**\n",
        "\n",
        "- Class 1 has low recall, meaning that the model has a hard time detecting the 1-star reviews, but high precision, meaning that when the model predicts a review is 1-star, it's usually correct.\n",
        "- Class 5 has high recall and precision, probably because 5-star reviews have polarized language, and because the model has a lot of observations to learn from."
      ]
    }
  ]
}